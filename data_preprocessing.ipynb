{
  "nbformat": 4,
  "nbformat_minor": 0,
  "metadata": {
    "colab": {
      "provenance": []
    },
    "kernelspec": {
      "name": "python3",
      "display_name": "Python 3"
    },
    "language_info": {
      "name": "python"
    }
  },
  "cells": [
    {
      "cell_type": "code",
      "execution_count": null,
      "metadata": {
        "id": "iMSddITcBCam"
      },
      "outputs": [],
      "source": [
        "import numpy as np\n",
        "import pandas as pd\n",
        "import re\n",
        "import nltk\n",
        "from nltk.corpus import stopwords\n",
        "from nltk.stem import PorterStemmer\n",
        "from sklearn.feature_extraction.text import TfidfVectorizer\n",
        "from sklearn.model_selection import  train_test_split"
      ]
    },
    {
      "cell_type": "code",
      "source": [
        "nltk.download('stopwords')\n",
        "#nltk.download('all')"
      ],
      "metadata": {
        "id": "l0rc5o5GBdqe",
        "colab": {
          "base_uri": "https://localhost:8080/"
        },
        "outputId": "1ea7394c-5305-4ccd-b4c6-1a684fa48318"
      },
      "execution_count": null,
      "outputs": [
        {
          "output_type": "stream",
          "name": "stderr",
          "text": [
            "[nltk_data] Downloading package stopwords to /root/nltk_data...\n",
            "[nltk_data]   Unzipping corpora/stopwords.zip.\n"
          ]
        },
        {
          "output_type": "execute_result",
          "data": {
            "text/plain": [
              "True"
            ]
          },
          "metadata": {},
          "execution_count": 2
        }
      ]
    },
    {
      "cell_type": "code",
      "source": [
        "#printing stopwatch\n",
        "print(stopwords.words('english'))"
      ],
      "metadata": {
        "id": "xN_75JwjBg2i",
        "colab": {
          "base_uri": "https://localhost:8080/"
        },
        "outputId": "88a5caf2-4669-4c35-b00f-7b498166e7f0"
      },
      "execution_count": null,
      "outputs": [
        {
          "output_type": "stream",
          "name": "stdout",
          "text": [
            "['i', 'me', 'my', 'myself', 'we', 'our', 'ours', 'ourselves', 'you', \"you're\", \"you've\", \"you'll\", \"you'd\", 'your', 'yours', 'yourself', 'yourselves', 'he', 'him', 'his', 'himself', 'she', \"she's\", 'her', 'hers', 'herself', 'it', \"it's\", 'its', 'itself', 'they', 'them', 'their', 'theirs', 'themselves', 'what', 'which', 'who', 'whom', 'this', 'that', \"that'll\", 'these', 'those', 'am', 'is', 'are', 'was', 'were', 'be', 'been', 'being', 'have', 'has', 'had', 'having', 'do', 'does', 'did', 'doing', 'a', 'an', 'the', 'and', 'but', 'if', 'or', 'because', 'as', 'until', 'while', 'of', 'at', 'by', 'for', 'with', 'about', 'against', 'between', 'into', 'through', 'during', 'before', 'after', 'above', 'below', 'to', 'from', 'up', 'down', 'in', 'out', 'on', 'off', 'over', 'under', 'again', 'further', 'then', 'once', 'here', 'there', 'when', 'where', 'why', 'how', 'all', 'any', 'both', 'each', 'few', 'more', 'most', 'other', 'some', 'such', 'no', 'nor', 'not', 'only', 'own', 'same', 'so', 'than', 'too', 'very', 's', 't', 'can', 'will', 'just', 'don', \"don't\", 'should', \"should've\", 'now', 'd', 'll', 'm', 'o', 're', 've', 'y', 'ain', 'aren', \"aren't\", 'couldn', \"couldn't\", 'didn', \"didn't\", 'doesn', \"doesn't\", 'hadn', \"hadn't\", 'hasn', \"hasn't\", 'haven', \"haven't\", 'isn', \"isn't\", 'ma', 'mightn', \"mightn't\", 'mustn', \"mustn't\", 'needn', \"needn't\", 'shan', \"shan't\", 'shouldn', \"shouldn't\", 'wasn', \"wasn't\", 'weren', \"weren't\", 'won', \"won't\", 'wouldn', \"wouldn't\"]\n"
          ]
        }
      ]
    },
    {
      "cell_type": "code",
      "source": [
        "#load the dataset\n",
        "suicide_data = pd.read_csv('/content/drive/MyDrive/Thesis/suicide_data_main.csv')"
      ],
      "metadata": {
        "id": "kLxeP_J_Bm-o"
      },
      "execution_count": null,
      "outputs": []
    },
    {
      "cell_type": "code",
      "source": [
        "#first 10 row from dataset\n",
        "suicide_data.head(10)"
      ],
      "metadata": {
        "id": "q6eyicL2BoPg",
        "colab": {
          "base_uri": "https://localhost:8080/",
          "height": 597
        },
        "outputId": "aff20cfb-99e7-4bc5-c3b6-a6d52152a1b6"
      },
      "execution_count": null,
      "outputs": [
        {
          "output_type": "execute_result",
          "data": {
            "text/plain": [
              "   Unnamed: 0 post_id  user_id   timestamp  \\\n",
              "0           0   wfimt    22002  1342075703   \n",
              "1           1  1bsqv3    22002  1365261010   \n",
              "2           2  1dr0xf    22002  1367787358   \n",
              "3           3  1e0noi    22002  1368125785   \n",
              "4           4  1f0y6g    22002  1369483647   \n",
              "5           5  1g4s52    22002  1370970723   \n",
              "6           6  1it5ts    22002  1374498763   \n",
              "7           7  1sge5s    22002  1386584670   \n",
              "8           8  1sjbf9    22002  1386664896   \n",
              "9           9  226mcd    22002  1396611845   \n",
              "\n",
              "                                          post_title  \\\n",
              "0                                  [real] motivation   \n",
              "1  simple question about transfering acc to anoth...   \n",
              "2             simple question: Did you get unnbaned?   \n",
              "3         I can't win. Why... and it's noy my fault.   \n",
              "4                                Diamond 5. Mrr rest   \n",
              "5                 Scared of next ban. What can i do?   \n",
              "6  Too all players who had huge impact on losing ...   \n",
              "7   Short question, short story, Pls help me decide.   \n",
              "8                 Maybe it's the right time to fa...   \n",
              "9  My conclusion after thinking about suicide in ...   \n",
              "\n",
              "                                           post_body  \\\n",
              "0  This is my first post on reddit. Some time ago...   \n",
              "1  Hi.. What will happen with my ranked rating? I...   \n",
              "2  Hi. Simple question. Did you get unban from a ...   \n",
              "3  Hi... Am playing at Eu west... am diamond 5 ri...   \n",
              "4  If i will switch server to EU and then go back...   \n",
              "5  Hi guys. I already got a one perm ban. I creat...   \n",
              "6  Instead of \"you are reported\" you should say t...   \n",
              "7  Hi am LOL player.. I think i dont understand n...   \n",
              "8  Maybe it's the right moment TO **FACE**  to fu...   \n",
              "9  Well, i want to share it with somebody... If i...   \n",
              "\n",
              "                                                text  labels suicide_class  \n",
              "0  [real] motivation This is my first post on red...       0       Suicide  \n",
              "1  simple question about transfering acc to anoth...       1   Non_Suicide  \n",
              "2  simple question: Did you get unnbaned? Hi. Sim...       1   Non_Suicide  \n",
              "3  I can't win. Why... and it's noy my fault. Hi....       1   Non_Suicide  \n",
              "4  Diamond 5. Mrr rest If i will switch server to...       1   Non_Suicide  \n",
              "5  Scared of next ban. What can i do? Hi guys. I ...       1   Non_Suicide  \n",
              "6  Too all players who had huge impact on losing ...       1   Non_Suicide  \n",
              "7  Short question, short story, Pls help me decid...       1   Non_Suicide  \n",
              "8  Maybe it's the right time to fa... Maybe it's ...       0       Suicide  \n",
              "9  My conclusion after thinking about suicide in ...       0       Suicide  "
            ],
            "text/html": [
              "\n",
              "  <div id=\"df-0c1f141f-998d-4c1b-8d62-1f7162596f45\">\n",
              "    <div class=\"colab-df-container\">\n",
              "      <div>\n",
              "<style scoped>\n",
              "    .dataframe tbody tr th:only-of-type {\n",
              "        vertical-align: middle;\n",
              "    }\n",
              "\n",
              "    .dataframe tbody tr th {\n",
              "        vertical-align: top;\n",
              "    }\n",
              "\n",
              "    .dataframe thead th {\n",
              "        text-align: right;\n",
              "    }\n",
              "</style>\n",
              "<table border=\"1\" class=\"dataframe\">\n",
              "  <thead>\n",
              "    <tr style=\"text-align: right;\">\n",
              "      <th></th>\n",
              "      <th>Unnamed: 0</th>\n",
              "      <th>post_id</th>\n",
              "      <th>user_id</th>\n",
              "      <th>timestamp</th>\n",
              "      <th>post_title</th>\n",
              "      <th>post_body</th>\n",
              "      <th>text</th>\n",
              "      <th>labels</th>\n",
              "      <th>suicide_class</th>\n",
              "    </tr>\n",
              "  </thead>\n",
              "  <tbody>\n",
              "    <tr>\n",
              "      <th>0</th>\n",
              "      <td>0</td>\n",
              "      <td>wfimt</td>\n",
              "      <td>22002</td>\n",
              "      <td>1342075703</td>\n",
              "      <td>[real] motivation</td>\n",
              "      <td>This is my first post on reddit. Some time ago...</td>\n",
              "      <td>[real] motivation This is my first post on red...</td>\n",
              "      <td>0</td>\n",
              "      <td>Suicide</td>\n",
              "    </tr>\n",
              "    <tr>\n",
              "      <th>1</th>\n",
              "      <td>1</td>\n",
              "      <td>1bsqv3</td>\n",
              "      <td>22002</td>\n",
              "      <td>1365261010</td>\n",
              "      <td>simple question about transfering acc to anoth...</td>\n",
              "      <td>Hi.. What will happen with my ranked rating? I...</td>\n",
              "      <td>simple question about transfering acc to anoth...</td>\n",
              "      <td>1</td>\n",
              "      <td>Non_Suicide</td>\n",
              "    </tr>\n",
              "    <tr>\n",
              "      <th>2</th>\n",
              "      <td>2</td>\n",
              "      <td>1dr0xf</td>\n",
              "      <td>22002</td>\n",
              "      <td>1367787358</td>\n",
              "      <td>simple question: Did you get unnbaned?</td>\n",
              "      <td>Hi. Simple question. Did you get unban from a ...</td>\n",
              "      <td>simple question: Did you get unnbaned? Hi. Sim...</td>\n",
              "      <td>1</td>\n",
              "      <td>Non_Suicide</td>\n",
              "    </tr>\n",
              "    <tr>\n",
              "      <th>3</th>\n",
              "      <td>3</td>\n",
              "      <td>1e0noi</td>\n",
              "      <td>22002</td>\n",
              "      <td>1368125785</td>\n",
              "      <td>I can't win. Why... and it's noy my fault.</td>\n",
              "      <td>Hi... Am playing at Eu west... am diamond 5 ri...</td>\n",
              "      <td>I can't win. Why... and it's noy my fault. Hi....</td>\n",
              "      <td>1</td>\n",
              "      <td>Non_Suicide</td>\n",
              "    </tr>\n",
              "    <tr>\n",
              "      <th>4</th>\n",
              "      <td>4</td>\n",
              "      <td>1f0y6g</td>\n",
              "      <td>22002</td>\n",
              "      <td>1369483647</td>\n",
              "      <td>Diamond 5. Mrr rest</td>\n",
              "      <td>If i will switch server to EU and then go back...</td>\n",
              "      <td>Diamond 5. Mrr rest If i will switch server to...</td>\n",
              "      <td>1</td>\n",
              "      <td>Non_Suicide</td>\n",
              "    </tr>\n",
              "    <tr>\n",
              "      <th>5</th>\n",
              "      <td>5</td>\n",
              "      <td>1g4s52</td>\n",
              "      <td>22002</td>\n",
              "      <td>1370970723</td>\n",
              "      <td>Scared of next ban. What can i do?</td>\n",
              "      <td>Hi guys. I already got a one perm ban. I creat...</td>\n",
              "      <td>Scared of next ban. What can i do? Hi guys. I ...</td>\n",
              "      <td>1</td>\n",
              "      <td>Non_Suicide</td>\n",
              "    </tr>\n",
              "    <tr>\n",
              "      <th>6</th>\n",
              "      <td>6</td>\n",
              "      <td>1it5ts</td>\n",
              "      <td>22002</td>\n",
              "      <td>1374498763</td>\n",
              "      <td>Too all players who had huge impact on losing ...</td>\n",
              "      <td>Instead of \"you are reported\" you should say t...</td>\n",
              "      <td>Too all players who had huge impact on losing ...</td>\n",
              "      <td>1</td>\n",
              "      <td>Non_Suicide</td>\n",
              "    </tr>\n",
              "    <tr>\n",
              "      <th>7</th>\n",
              "      <td>7</td>\n",
              "      <td>1sge5s</td>\n",
              "      <td>22002</td>\n",
              "      <td>1386584670</td>\n",
              "      <td>Short question, short story, Pls help me decide.</td>\n",
              "      <td>Hi am LOL player.. I think i dont understand n...</td>\n",
              "      <td>Short question, short story, Pls help me decid...</td>\n",
              "      <td>1</td>\n",
              "      <td>Non_Suicide</td>\n",
              "    </tr>\n",
              "    <tr>\n",
              "      <th>8</th>\n",
              "      <td>8</td>\n",
              "      <td>1sjbf9</td>\n",
              "      <td>22002</td>\n",
              "      <td>1386664896</td>\n",
              "      <td>Maybe it's the right time to fa...</td>\n",
              "      <td>Maybe it's the right moment TO **FACE**  to fu...</td>\n",
              "      <td>Maybe it's the right time to fa... Maybe it's ...</td>\n",
              "      <td>0</td>\n",
              "      <td>Suicide</td>\n",
              "    </tr>\n",
              "    <tr>\n",
              "      <th>9</th>\n",
              "      <td>9</td>\n",
              "      <td>226mcd</td>\n",
              "      <td>22002</td>\n",
              "      <td>1396611845</td>\n",
              "      <td>My conclusion after thinking about suicide in ...</td>\n",
              "      <td>Well, i want to share it with somebody... If i...</td>\n",
              "      <td>My conclusion after thinking about suicide in ...</td>\n",
              "      <td>0</td>\n",
              "      <td>Suicide</td>\n",
              "    </tr>\n",
              "  </tbody>\n",
              "</table>\n",
              "</div>\n",
              "      <button class=\"colab-df-convert\" onclick=\"convertToInteractive('df-0c1f141f-998d-4c1b-8d62-1f7162596f45')\"\n",
              "              title=\"Convert this dataframe to an interactive table.\"\n",
              "              style=\"display:none;\">\n",
              "        \n",
              "  <svg xmlns=\"http://www.w3.org/2000/svg\" height=\"24px\"viewBox=\"0 0 24 24\"\n",
              "       width=\"24px\">\n",
              "    <path d=\"M0 0h24v24H0V0z\" fill=\"none\"/>\n",
              "    <path d=\"M18.56 5.44l.94 2.06.94-2.06 2.06-.94-2.06-.94-.94-2.06-.94 2.06-2.06.94zm-11 1L8.5 8.5l.94-2.06 2.06-.94-2.06-.94L8.5 2.5l-.94 2.06-2.06.94zm10 10l.94 2.06.94-2.06 2.06-.94-2.06-.94-.94-2.06-.94 2.06-2.06.94z\"/><path d=\"M17.41 7.96l-1.37-1.37c-.4-.4-.92-.59-1.43-.59-.52 0-1.04.2-1.43.59L10.3 9.45l-7.72 7.72c-.78.78-.78 2.05 0 2.83L4 21.41c.39.39.9.59 1.41.59.51 0 1.02-.2 1.41-.59l7.78-7.78 2.81-2.81c.8-.78.8-2.07 0-2.86zM5.41 20L4 18.59l7.72-7.72 1.47 1.35L5.41 20z\"/>\n",
              "  </svg>\n",
              "      </button>\n",
              "      \n",
              "  <style>\n",
              "    .colab-df-container {\n",
              "      display:flex;\n",
              "      flex-wrap:wrap;\n",
              "      gap: 12px;\n",
              "    }\n",
              "\n",
              "    .colab-df-convert {\n",
              "      background-color: #E8F0FE;\n",
              "      border: none;\n",
              "      border-radius: 50%;\n",
              "      cursor: pointer;\n",
              "      display: none;\n",
              "      fill: #1967D2;\n",
              "      height: 32px;\n",
              "      padding: 0 0 0 0;\n",
              "      width: 32px;\n",
              "    }\n",
              "\n",
              "    .colab-df-convert:hover {\n",
              "      background-color: #E2EBFA;\n",
              "      box-shadow: 0px 1px 2px rgba(60, 64, 67, 0.3), 0px 1px 3px 1px rgba(60, 64, 67, 0.15);\n",
              "      fill: #174EA6;\n",
              "    }\n",
              "\n",
              "    [theme=dark] .colab-df-convert {\n",
              "      background-color: #3B4455;\n",
              "      fill: #D2E3FC;\n",
              "    }\n",
              "\n",
              "    [theme=dark] .colab-df-convert:hover {\n",
              "      background-color: #434B5C;\n",
              "      box-shadow: 0px 1px 3px 1px rgba(0, 0, 0, 0.15);\n",
              "      filter: drop-shadow(0px 1px 2px rgba(0, 0, 0, 0.3));\n",
              "      fill: #FFFFFF;\n",
              "    }\n",
              "  </style>\n",
              "\n",
              "      <script>\n",
              "        const buttonEl =\n",
              "          document.querySelector('#df-0c1f141f-998d-4c1b-8d62-1f7162596f45 button.colab-df-convert');\n",
              "        buttonEl.style.display =\n",
              "          google.colab.kernel.accessAllowed ? 'block' : 'none';\n",
              "\n",
              "        async function convertToInteractive(key) {\n",
              "          const element = document.querySelector('#df-0c1f141f-998d-4c1b-8d62-1f7162596f45');\n",
              "          const dataTable =\n",
              "            await google.colab.kernel.invokeFunction('convertToInteractive',\n",
              "                                                     [key], {});\n",
              "          if (!dataTable) return;\n",
              "\n",
              "          const docLinkHtml = 'Like what you see? Visit the ' +\n",
              "            '<a target=\"_blank\" href=https://colab.research.google.com/notebooks/data_table.ipynb>data table notebook</a>'\n",
              "            + ' to learn more about interactive tables.';\n",
              "          element.innerHTML = '';\n",
              "          dataTable['output_type'] = 'display_data';\n",
              "          await google.colab.output.renderOutput(dataTable, element);\n",
              "          const docLink = document.createElement('div');\n",
              "          docLink.innerHTML = docLinkHtml;\n",
              "          element.appendChild(docLink);\n",
              "        }\n",
              "      </script>\n",
              "    </div>\n",
              "  </div>\n",
              "  "
            ]
          },
          "metadata": {},
          "execution_count": 5
        }
      ]
    },
    {
      "cell_type": "code",
      "source": [
        "suicide_data.shape"
      ],
      "metadata": {
        "id": "a2tClZ0NBrtJ",
        "colab": {
          "base_uri": "https://localhost:8080/"
        },
        "outputId": "aac60c02-86fb-4f13-8113-b688d3a3db2c"
      },
      "execution_count": null,
      "outputs": [
        {
          "output_type": "execute_result",
          "data": {
            "text/plain": [
              "(698997, 9)"
            ]
          },
          "metadata": {},
          "execution_count": 6
        }
      ]
    },
    {
      "cell_type": "code",
      "source": [
        "suicide_data.isnull().sum()"
      ],
      "metadata": {
        "id": "idTgXsV_Buke",
        "colab": {
          "base_uri": "https://localhost:8080/"
        },
        "outputId": "48422b17-c24a-4409-cf63-37b079702e25"
      },
      "execution_count": null,
      "outputs": [
        {
          "output_type": "execute_result",
          "data": {
            "text/plain": [
              "Unnamed: 0       0\n",
              "post_id          0\n",
              "user_id          0\n",
              "timestamp        0\n",
              "post_title       0\n",
              "post_body        0\n",
              "text             0\n",
              "labels           0\n",
              "suicide_class    0\n",
              "dtype: int64"
            ]
          },
          "metadata": {},
          "execution_count": 7
        }
      ]
    },
    {
      "cell_type": "code",
      "source": [
        "def cleanText(text):\n",
        "    text = text.lower()\n",
        "    text = re.sub('\\[.*?\\]', '', text)\n",
        "    text = re.sub(\"\\\\W\",\" \",text) \n",
        "    text = re.sub('@[A-Za-z0-9]+','',text)\n",
        "    text = re.sub('https?://\\S+|www\\.\\S+', '', text) \n",
        "    text = re.sub('<.*?>+', '', text)\n",
        "    text = re.sub('\\n', '', text)\n",
        "    text = re.sub('\\w*\\d\\w*', '', text)   \n",
        "    return text"
      ],
      "metadata": {
        "id": "KLZ_zQhVCJFC"
      },
      "execution_count": null,
      "outputs": []
    },
    {
      "cell_type": "code",
      "source": [
        "#cleaning the text\n",
        "suicide_data['text'] = suicide_data['text'].apply(cleanText)"
      ],
      "metadata": {
        "id": "KKcKlUqnCMgr"
      },
      "execution_count": null,
      "outputs": []
    },
    {
      "cell_type": "code",
      "source": [
        "#tokenization\n",
        "def tokenize(txt):\n",
        "  tokens = re.split('\\W+', txt)\n",
        "  return tokens\n",
        "\n",
        "suicide_data['text'] = suicide_data['text'].apply(lambda x : tokenize(x.lower()))"
      ],
      "metadata": {
        "id": "OVVnPbHNCPj0"
      },
      "execution_count": null,
      "outputs": []
    },
    {
      "cell_type": "code",
      "source": [
        "#removing stopword\n",
        "STOPWORDS = set(stopwords.words('english')) \n",
        "def remove_stopwords(text):\n",
        "  return \" \".join([word for word in text if word not in STOPWORDS])\n",
        "\n",
        "suicide_data['text'] = suicide_data['text'].apply(lambda x: remove_stopwords(x))"
      ],
      "metadata": {
        "id": "Tle4Mm69CSgS"
      },
      "execution_count": null,
      "outputs": []
    },
    {
      "cell_type": "code",
      "source": [
        "from nltk.stem.snowball import SnowballStemmer\n",
        "# Download the Snowball stemmer\n",
        "nltk.download('snowball_data')\n",
        "nltk.download('punkt')"
      ],
      "metadata": {
        "colab": {
          "base_uri": "https://localhost:8080/"
        },
        "id": "1kW9v0Og2FUg",
        "outputId": "74cad5d4-5003-4076-da35-159b9f8a627d"
      },
      "execution_count": null,
      "outputs": [
        {
          "output_type": "stream",
          "name": "stderr",
          "text": [
            "[nltk_data] Downloading package snowball_data to /root/nltk_data...\n",
            "[nltk_data] Downloading package punkt to /root/nltk_data...\n",
            "[nltk_data]   Unzipping tokenizers/punkt.zip.\n"
          ]
        },
        {
          "output_type": "execute_result",
          "data": {
            "text/plain": [
              "True"
            ]
          },
          "metadata": {},
          "execution_count": 12
        }
      ]
    },
    {
      "cell_type": "code",
      "source": [
        "# Initialize the stemmer\n",
        "stemmer = SnowballStemmer('english')"
      ],
      "metadata": {
        "id": "IfEpucVZ2K6x"
      },
      "execution_count": null,
      "outputs": []
    },
    {
      "cell_type": "code",
      "source": [
        "#Stemming\n",
        "def stem_text(text):\n",
        "    words = nltk.word_tokenize(text)\n",
        "    stemmed_words = [stemmer.stem(word) for word in words]\n",
        "    return ' '.join(stemmed_words)"
      ],
      "metadata": {
        "id": "xa8F91D21zDI"
      },
      "execution_count": null,
      "outputs": []
    },
    {
      "cell_type": "code",
      "source": [
        "# Apply stemming to the selected column\n",
        "suicide_data['text'] = suicide_data['text'].apply(stem_text)"
      ],
      "metadata": {
        "id": "Dk6qON1r2ZGQ"
      },
      "execution_count": null,
      "outputs": []
    },
    {
      "cell_type": "code",
      "source": [
        "#Lemmatization\n",
        "from nltk.stem import WordNetLemmatizer\n",
        "from nltk.corpus import wordnet"
      ],
      "metadata": {
        "id": "yl6W6tew3PPS"
      },
      "execution_count": null,
      "outputs": []
    },
    {
      "cell_type": "code",
      "source": [
        "# Download the WordNet lemmatizer and wordnet data\n",
        "nltk.download('wordnet')\n",
        "nltk.download('averaged_perceptron_tagger')"
      ],
      "metadata": {
        "colab": {
          "base_uri": "https://localhost:8080/"
        },
        "id": "GTyYObQj3Vu6",
        "outputId": "4830659d-d7da-437b-80ee-38d27b527aea"
      },
      "execution_count": null,
      "outputs": [
        {
          "output_type": "stream",
          "name": "stderr",
          "text": [
            "[nltk_data] Downloading package wordnet to /root/nltk_data...\n",
            "[nltk_data] Downloading package averaged_perceptron_tagger to\n",
            "[nltk_data]     /root/nltk_data...\n",
            "[nltk_data]   Unzipping taggers/averaged_perceptron_tagger.zip.\n"
          ]
        },
        {
          "output_type": "execute_result",
          "data": {
            "text/plain": [
              "True"
            ]
          },
          "metadata": {},
          "execution_count": 17
        }
      ]
    },
    {
      "cell_type": "code",
      "source": [
        "# Initialize the lemmatizer\n",
        "lemmatizer = WordNetLemmatizer()"
      ],
      "metadata": {
        "id": "SLLlhkKT3YDT"
      },
      "execution_count": null,
      "outputs": []
    },
    {
      "cell_type": "code",
      "source": [
        "# Define a function to perform lemmatization on a given text\n",
        "def lemmatize_text(text):\n",
        "    # Convert part-of-speech tags from Penn Treebank format to WordNet format\n",
        "    def get_wordnet_pos(treebank_tag):\n",
        "        if treebank_tag.startswith('J'):\n",
        "            return wordnet.ADJ\n",
        "        elif treebank_tag.startswith('V'):\n",
        "            return wordnet.VERB\n",
        "        elif treebank_tag.startswith('N'):\n",
        "            return wordnet.NOUN\n",
        "        elif treebank_tag.startswith('R'):\n",
        "            return wordnet.ADV\n",
        "        else:\n",
        "            return wordnet.NOUN\n",
        "    # Tokenize the text into words\n",
        "    words = nltk.word_tokenize(text)\n",
        "    # Tag the words with part-of-speech tags\n",
        "    tagged_words = nltk.pos_tag(words)\n",
        "    \n",
        "    # Lemmatize each word using its part-of-speech tag\n",
        "    lemmatized_words = [lemmatizer.lemmatize(word, get_wordnet_pos(tag)) for word, tag in tagged_words]\n",
        "    \n",
        "    # Join the lemmatized words back into a single string\n",
        "    return ' '.join(lemmatized_words)"
      ],
      "metadata": {
        "id": "gBon8yBS3bPX"
      },
      "execution_count": null,
      "outputs": []
    },
    {
      "cell_type": "code",
      "source": [
        "# Apply lemmatization to the selected column\n",
        "suicide_data['text'] = suicide_data['text'].apply(lemmatize_text)"
      ],
      "metadata": {
        "id": "Zyy-Bf8k3tQc"
      },
      "execution_count": null,
      "outputs": []
    },
    {
      "cell_type": "code",
      "source": [
        "suicide_data"
      ],
      "metadata": {
        "colab": {
          "base_uri": "https://localhost:8080/",
          "height": 658
        },
        "id": "9vE7XhyvQVE-",
        "outputId": "4788a83a-c57d-4a16-cdd6-b414e75a2fed"
      },
      "execution_count": null,
      "outputs": [
        {
          "output_type": "execute_result",
          "data": {
            "text/plain": [
              "        Unnamed: 0 post_id  user_id   timestamp  \\\n",
              "0                0   wfimt    22002  1342075703   \n",
              "1                1  1bsqv3    22002  1365261010   \n",
              "2                2  1dr0xf    22002  1367787358   \n",
              "3                3  1e0noi    22002  1368125785   \n",
              "4                4  1f0y6g    22002  1369483647   \n",
              "...            ...     ...      ...         ...   \n",
              "698992      698992  2rglgg   -39973  1420505138   \n",
              "698993      698993  2uqxiv   -39973  1423052014   \n",
              "698994      698994  21hlxs   -39990  1395905138   \n",
              "698995      698995  25311d   -39990  1399591174   \n",
              "698996      698996  26la8n   -39990  1401179265   \n",
              "\n",
              "                                               post_title  \\\n",
              "0                                       [real] motivation   \n",
              "1       simple question about transfering acc to anoth...   \n",
              "2                  simple question: Did you get unnbaned?   \n",
              "3              I can't win. Why... and it's noy my fault.   \n",
              "4                                     Diamond 5. Mrr rest   \n",
              "...                                                   ...   \n",
              "698992  [Offline] San Fernando Valley, _PERSON_. Looki...   \n",
              "698993                                        Exhaustion.   \n",
              "698994  I had this crazy idea. Pick 2 pictures and I w...   \n",
              "698995  There's not enough animated futa. I plan to fi...   \n",
              "698996  Am I the only one that gets nothing out of sto...   \n",
              "\n",
              "                                                post_body  \\\n",
              "0       This is my first post on reddit. Some time ago...   \n",
              "1       Hi.. What will happen with my ranked rating? I...   \n",
              "2       Hi. Simple question. Did you get unban from a ...   \n",
              "3       Hi... Am playing at Eu west... am diamond 5 ri...   \n",
              "4       If i will switch server to EU and then go back...   \n",
              "...                                                   ...   \n",
              "698992  I DM a group of 3 at the moment. A Tiefling fi...   \n",
              "698993  Just wondering how other DMs play with it. Whe...   \n",
              "698994  So if you've seen my latest posts, I like to t...   \n",
              "698995  Fellow futanari fanatics, as I'm sure you woul...   \n",
              "698996  I love that others have found a way to nurture...   \n",
              "\n",
              "                                                     text  labels  \\\n",
              "0       motiv first post reddit time ago want chang li...       0   \n",
              "1       simpl question transfer acc anoth server hi ha...       1   \n",
              "2       simpl question get unnban hi simpl question ge...       1   \n",
              "3       win noy fault hi play eu west diamond right dr...       1   \n",
              "4       diamond mrr rest switch server eu go back west...       1   \n",
              "...                                                   ...     ...   \n",
              "698992  san fernando valley  look player dm group mome...       1   \n",
              "698993  exhaust wonder dm play pc gain level tell play...       1   \n",
              "698994  crazi idea pick pictur combin see late post li...       1   \n",
              "698995  enough anim futa plan fix need help fellow fut...       1   \n",
              "698996  one get noth stori love other find way nurtur ...       1   \n",
              "\n",
              "       suicide_class  \n",
              "0            Suicide  \n",
              "1        Non_Suicide  \n",
              "2        Non_Suicide  \n",
              "3        Non_Suicide  \n",
              "4        Non_Suicide  \n",
              "...              ...  \n",
              "698992   Non_Suicide  \n",
              "698993   Non_Suicide  \n",
              "698994   Non_Suicide  \n",
              "698995   Non_Suicide  \n",
              "698996   Non_Suicide  \n",
              "\n",
              "[698997 rows x 9 columns]"
            ],
            "text/html": [
              "\n",
              "  <div id=\"df-62acbbdb-40a9-4196-bcaf-f6424a4b601e\">\n",
              "    <div class=\"colab-df-container\">\n",
              "      <div>\n",
              "<style scoped>\n",
              "    .dataframe tbody tr th:only-of-type {\n",
              "        vertical-align: middle;\n",
              "    }\n",
              "\n",
              "    .dataframe tbody tr th {\n",
              "        vertical-align: top;\n",
              "    }\n",
              "\n",
              "    .dataframe thead th {\n",
              "        text-align: right;\n",
              "    }\n",
              "</style>\n",
              "<table border=\"1\" class=\"dataframe\">\n",
              "  <thead>\n",
              "    <tr style=\"text-align: right;\">\n",
              "      <th></th>\n",
              "      <th>Unnamed: 0</th>\n",
              "      <th>post_id</th>\n",
              "      <th>user_id</th>\n",
              "      <th>timestamp</th>\n",
              "      <th>post_title</th>\n",
              "      <th>post_body</th>\n",
              "      <th>text</th>\n",
              "      <th>labels</th>\n",
              "      <th>suicide_class</th>\n",
              "    </tr>\n",
              "  </thead>\n",
              "  <tbody>\n",
              "    <tr>\n",
              "      <th>0</th>\n",
              "      <td>0</td>\n",
              "      <td>wfimt</td>\n",
              "      <td>22002</td>\n",
              "      <td>1342075703</td>\n",
              "      <td>[real] motivation</td>\n",
              "      <td>This is my first post on reddit. Some time ago...</td>\n",
              "      <td>motiv first post reddit time ago want chang li...</td>\n",
              "      <td>0</td>\n",
              "      <td>Suicide</td>\n",
              "    </tr>\n",
              "    <tr>\n",
              "      <th>1</th>\n",
              "      <td>1</td>\n",
              "      <td>1bsqv3</td>\n",
              "      <td>22002</td>\n",
              "      <td>1365261010</td>\n",
              "      <td>simple question about transfering acc to anoth...</td>\n",
              "      <td>Hi.. What will happen with my ranked rating? I...</td>\n",
              "      <td>simpl question transfer acc anoth server hi ha...</td>\n",
              "      <td>1</td>\n",
              "      <td>Non_Suicide</td>\n",
              "    </tr>\n",
              "    <tr>\n",
              "      <th>2</th>\n",
              "      <td>2</td>\n",
              "      <td>1dr0xf</td>\n",
              "      <td>22002</td>\n",
              "      <td>1367787358</td>\n",
              "      <td>simple question: Did you get unnbaned?</td>\n",
              "      <td>Hi. Simple question. Did you get unban from a ...</td>\n",
              "      <td>simpl question get unnban hi simpl question ge...</td>\n",
              "      <td>1</td>\n",
              "      <td>Non_Suicide</td>\n",
              "    </tr>\n",
              "    <tr>\n",
              "      <th>3</th>\n",
              "      <td>3</td>\n",
              "      <td>1e0noi</td>\n",
              "      <td>22002</td>\n",
              "      <td>1368125785</td>\n",
              "      <td>I can't win. Why... and it's noy my fault.</td>\n",
              "      <td>Hi... Am playing at Eu west... am diamond 5 ri...</td>\n",
              "      <td>win noy fault hi play eu west diamond right dr...</td>\n",
              "      <td>1</td>\n",
              "      <td>Non_Suicide</td>\n",
              "    </tr>\n",
              "    <tr>\n",
              "      <th>4</th>\n",
              "      <td>4</td>\n",
              "      <td>1f0y6g</td>\n",
              "      <td>22002</td>\n",
              "      <td>1369483647</td>\n",
              "      <td>Diamond 5. Mrr rest</td>\n",
              "      <td>If i will switch server to EU and then go back...</td>\n",
              "      <td>diamond mrr rest switch server eu go back west...</td>\n",
              "      <td>1</td>\n",
              "      <td>Non_Suicide</td>\n",
              "    </tr>\n",
              "    <tr>\n",
              "      <th>...</th>\n",
              "      <td>...</td>\n",
              "      <td>...</td>\n",
              "      <td>...</td>\n",
              "      <td>...</td>\n",
              "      <td>...</td>\n",
              "      <td>...</td>\n",
              "      <td>...</td>\n",
              "      <td>...</td>\n",
              "      <td>...</td>\n",
              "    </tr>\n",
              "    <tr>\n",
              "      <th>698992</th>\n",
              "      <td>698992</td>\n",
              "      <td>2rglgg</td>\n",
              "      <td>-39973</td>\n",
              "      <td>1420505138</td>\n",
              "      <td>[Offline] San Fernando Valley, _PERSON_. Looki...</td>\n",
              "      <td>I DM a group of 3 at the moment. A Tiefling fi...</td>\n",
              "      <td>san fernando valley  look player dm group mome...</td>\n",
              "      <td>1</td>\n",
              "      <td>Non_Suicide</td>\n",
              "    </tr>\n",
              "    <tr>\n",
              "      <th>698993</th>\n",
              "      <td>698993</td>\n",
              "      <td>2uqxiv</td>\n",
              "      <td>-39973</td>\n",
              "      <td>1423052014</td>\n",
              "      <td>Exhaustion.</td>\n",
              "      <td>Just wondering how other DMs play with it. Whe...</td>\n",
              "      <td>exhaust wonder dm play pc gain level tell play...</td>\n",
              "      <td>1</td>\n",
              "      <td>Non_Suicide</td>\n",
              "    </tr>\n",
              "    <tr>\n",
              "      <th>698994</th>\n",
              "      <td>698994</td>\n",
              "      <td>21hlxs</td>\n",
              "      <td>-39990</td>\n",
              "      <td>1395905138</td>\n",
              "      <td>I had this crazy idea. Pick 2 pictures and I w...</td>\n",
              "      <td>So if you've seen my latest posts, I like to t...</td>\n",
              "      <td>crazi idea pick pictur combin see late post li...</td>\n",
              "      <td>1</td>\n",
              "      <td>Non_Suicide</td>\n",
              "    </tr>\n",
              "    <tr>\n",
              "      <th>698995</th>\n",
              "      <td>698995</td>\n",
              "      <td>25311d</td>\n",
              "      <td>-39990</td>\n",
              "      <td>1399591174</td>\n",
              "      <td>There's not enough animated futa. I plan to fi...</td>\n",
              "      <td>Fellow futanari fanatics, as I'm sure you woul...</td>\n",
              "      <td>enough anim futa plan fix need help fellow fut...</td>\n",
              "      <td>1</td>\n",
              "      <td>Non_Suicide</td>\n",
              "    </tr>\n",
              "    <tr>\n",
              "      <th>698996</th>\n",
              "      <td>698996</td>\n",
              "      <td>26la8n</td>\n",
              "      <td>-39990</td>\n",
              "      <td>1401179265</td>\n",
              "      <td>Am I the only one that gets nothing out of sto...</td>\n",
              "      <td>I love that others have found a way to nurture...</td>\n",
              "      <td>one get noth stori love other find way nurtur ...</td>\n",
              "      <td>1</td>\n",
              "      <td>Non_Suicide</td>\n",
              "    </tr>\n",
              "  </tbody>\n",
              "</table>\n",
              "<p>698997 rows × 9 columns</p>\n",
              "</div>\n",
              "      <button class=\"colab-df-convert\" onclick=\"convertToInteractive('df-62acbbdb-40a9-4196-bcaf-f6424a4b601e')\"\n",
              "              title=\"Convert this dataframe to an interactive table.\"\n",
              "              style=\"display:none;\">\n",
              "        \n",
              "  <svg xmlns=\"http://www.w3.org/2000/svg\" height=\"24px\"viewBox=\"0 0 24 24\"\n",
              "       width=\"24px\">\n",
              "    <path d=\"M0 0h24v24H0V0z\" fill=\"none\"/>\n",
              "    <path d=\"M18.56 5.44l.94 2.06.94-2.06 2.06-.94-2.06-.94-.94-2.06-.94 2.06-2.06.94zm-11 1L8.5 8.5l.94-2.06 2.06-.94-2.06-.94L8.5 2.5l-.94 2.06-2.06.94zm10 10l.94 2.06.94-2.06 2.06-.94-2.06-.94-.94-2.06-.94 2.06-2.06.94z\"/><path d=\"M17.41 7.96l-1.37-1.37c-.4-.4-.92-.59-1.43-.59-.52 0-1.04.2-1.43.59L10.3 9.45l-7.72 7.72c-.78.78-.78 2.05 0 2.83L4 21.41c.39.39.9.59 1.41.59.51 0 1.02-.2 1.41-.59l7.78-7.78 2.81-2.81c.8-.78.8-2.07 0-2.86zM5.41 20L4 18.59l7.72-7.72 1.47 1.35L5.41 20z\"/>\n",
              "  </svg>\n",
              "      </button>\n",
              "      \n",
              "  <style>\n",
              "    .colab-df-container {\n",
              "      display:flex;\n",
              "      flex-wrap:wrap;\n",
              "      gap: 12px;\n",
              "    }\n",
              "\n",
              "    .colab-df-convert {\n",
              "      background-color: #E8F0FE;\n",
              "      border: none;\n",
              "      border-radius: 50%;\n",
              "      cursor: pointer;\n",
              "      display: none;\n",
              "      fill: #1967D2;\n",
              "      height: 32px;\n",
              "      padding: 0 0 0 0;\n",
              "      width: 32px;\n",
              "    }\n",
              "\n",
              "    .colab-df-convert:hover {\n",
              "      background-color: #E2EBFA;\n",
              "      box-shadow: 0px 1px 2px rgba(60, 64, 67, 0.3), 0px 1px 3px 1px rgba(60, 64, 67, 0.15);\n",
              "      fill: #174EA6;\n",
              "    }\n",
              "\n",
              "    [theme=dark] .colab-df-convert {\n",
              "      background-color: #3B4455;\n",
              "      fill: #D2E3FC;\n",
              "    }\n",
              "\n",
              "    [theme=dark] .colab-df-convert:hover {\n",
              "      background-color: #434B5C;\n",
              "      box-shadow: 0px 1px 3px 1px rgba(0, 0, 0, 0.15);\n",
              "      filter: drop-shadow(0px 1px 2px rgba(0, 0, 0, 0.3));\n",
              "      fill: #FFFFFF;\n",
              "    }\n",
              "  </style>\n",
              "\n",
              "      <script>\n",
              "        const buttonEl =\n",
              "          document.querySelector('#df-62acbbdb-40a9-4196-bcaf-f6424a4b601e button.colab-df-convert');\n",
              "        buttonEl.style.display =\n",
              "          google.colab.kernel.accessAllowed ? 'block' : 'none';\n",
              "\n",
              "        async function convertToInteractive(key) {\n",
              "          const element = document.querySelector('#df-62acbbdb-40a9-4196-bcaf-f6424a4b601e');\n",
              "          const dataTable =\n",
              "            await google.colab.kernel.invokeFunction('convertToInteractive',\n",
              "                                                     [key], {});\n",
              "          if (!dataTable) return;\n",
              "\n",
              "          const docLinkHtml = 'Like what you see? Visit the ' +\n",
              "            '<a target=\"_blank\" href=https://colab.research.google.com/notebooks/data_table.ipynb>data table notebook</a>'\n",
              "            + ' to learn more about interactive tables.';\n",
              "          element.innerHTML = '';\n",
              "          dataTable['output_type'] = 'display_data';\n",
              "          await google.colab.output.renderOutput(dataTable, element);\n",
              "          const docLink = document.createElement('div');\n",
              "          docLink.innerHTML = docLinkHtml;\n",
              "          element.appendChild(docLink);\n",
              "        }\n",
              "      </script>\n",
              "    </div>\n",
              "  </div>\n",
              "  "
            ]
          },
          "metadata": {},
          "execution_count": 26
        }
      ]
    },
    {
      "cell_type": "code",
      "source": [
        "columns_to_export = suicide_data[['post_id','text','labels','suicide_class']]"
      ],
      "metadata": {
        "id": "IHYVqinvaWs1"
      },
      "execution_count": null,
      "outputs": []
    },
    {
      "cell_type": "code",
      "source": [
        "from google.colab import files\n",
        "columns_to_export.to_csv('suicide_data_cleaned.csv', encoding = 'utf-8-sig') \n",
        "files.download('suicide_data_cleaned.csv')"
      ],
      "metadata": {
        "colab": {
          "base_uri": "https://localhost:8080/",
          "height": 34
        },
        "id": "bCg3RFwXaKmh",
        "outputId": "d7c7a8c5-7662-4d26-9ca4-2de52a064abf"
      },
      "execution_count": null,
      "outputs": [
        {
          "output_type": "display_data",
          "data": {
            "text/plain": [
              "<IPython.core.display.Javascript object>"
            ],
            "application/javascript": [
              "\n",
              "    async function download(id, filename, size) {\n",
              "      if (!google.colab.kernel.accessAllowed) {\n",
              "        return;\n",
              "      }\n",
              "      const div = document.createElement('div');\n",
              "      const label = document.createElement('label');\n",
              "      label.textContent = `Downloading \"${filename}\": `;\n",
              "      div.appendChild(label);\n",
              "      const progress = document.createElement('progress');\n",
              "      progress.max = size;\n",
              "      div.appendChild(progress);\n",
              "      document.body.appendChild(div);\n",
              "\n",
              "      const buffers = [];\n",
              "      let downloaded = 0;\n",
              "\n",
              "      const channel = await google.colab.kernel.comms.open(id);\n",
              "      // Send a message to notify the kernel that we're ready.\n",
              "      channel.send({})\n",
              "\n",
              "      for await (const message of channel.messages) {\n",
              "        // Send a message to notify the kernel that we're ready.\n",
              "        channel.send({})\n",
              "        if (message.buffers) {\n",
              "          for (const buffer of message.buffers) {\n",
              "            buffers.push(buffer);\n",
              "            downloaded += buffer.byteLength;\n",
              "            progress.value = downloaded;\n",
              "          }\n",
              "        }\n",
              "      }\n",
              "      const blob = new Blob(buffers, {type: 'application/binary'});\n",
              "      const a = document.createElement('a');\n",
              "      a.href = window.URL.createObjectURL(blob);\n",
              "      a.download = filename;\n",
              "      div.appendChild(a);\n",
              "      a.click();\n",
              "      div.remove();\n",
              "    }\n",
              "  "
            ]
          },
          "metadata": {}
        },
        {
          "output_type": "display_data",
          "data": {
            "text/plain": [
              "<IPython.core.display.Javascript object>"
            ],
            "application/javascript": [
              "download(\"download_a813d09c-1596-4871-8bbb-6012a833ded7\", \"suicide_data_cleaned.csv\", 253589431)"
            ]
          },
          "metadata": {}
        }
      ]
    }
  ]
}