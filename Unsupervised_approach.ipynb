{
  "nbformat": 4,
  "nbformat_minor": 0,
  "metadata": {
    "colab": {
      "provenance": []
    },
    "kernelspec": {
      "name": "python3",
      "display_name": "Python 3"
    },
    "language_info": {
      "name": "python"
    }
  },
  "cells": [
    {
      "cell_type": "code",
      "execution_count": null,
      "metadata": {
        "id": "JnlGi7YfC5KP"
      },
      "outputs": [],
      "source": [
        "import numpy as np\n",
        "import pandas as pd\n",
        "import re\n",
        "import nltk\n",
        "from sklearn.feature_extraction.text import TfidfVectorizer\n",
        "from sklearn.model_selection import  train_test_split"
      ]
    },
    {
      "cell_type": "code",
      "source": [
        "#load the dataset\n",
        "suicide_data = pd.read_csv('/content/drive/MyDrive/Thesis/suicide_data_cleaned1.csv')"
      ],
      "metadata": {
        "id": "4l5giI52DeMa"
      },
      "execution_count": null,
      "outputs": []
    },
    {
      "cell_type": "code",
      "source": [
        "#first 10 row from dataset\n",
        "suicide_data.head(10)"
      ],
      "metadata": {
        "id": "lHkvjGypDh7x",
        "colab": {
          "base_uri": "https://localhost:8080/",
          "height": 362
        },
        "outputId": "0cc4875d-97e8-45ce-81f6-b6107787487c"
      },
      "execution_count": null,
      "outputs": [
        {
          "output_type": "execute_result",
          "data": {
            "text/plain": [
              "   Unnamed: 0 post_id                                               text  \\\n",
              "0           0   wfimt  motiv first post reddit time ago want chang li...   \n",
              "1           1  1bsqv3  simpl question transfer acc anoth server hi ha...   \n",
              "2           2  1dr0xf  simpl question get unnban hi simpl question ge...   \n",
              "3           3  1e0noi  win noy fault hi play eu west diamond right dr...   \n",
              "4           4  1f0y6g  diamond mrr rest switch server eu go back west...   \n",
              "5           5  1g4s52  scare next ban hi guy alreadi get one perm ban...   \n",
              "6           6  1it5ts  player huge impact lose game want report every...   \n",
              "7           7  1sge5s  short question short stori pls help decid hi l...   \n",
              "8           8  1sjbf9  mayb right time fa mayb right moment face fuck...   \n",
              "9           9  226mcd  conclus think suicid room well want share some...   \n",
              "\n",
              "   labels suicide_class  \n",
              "0       0       Suicide  \n",
              "1       1   Non_Suicide  \n",
              "2       1   Non_Suicide  \n",
              "3       1   Non_Suicide  \n",
              "4       1   Non_Suicide  \n",
              "5       1   Non_Suicide  \n",
              "6       1   Non_Suicide  \n",
              "7       1   Non_Suicide  \n",
              "8       0       Suicide  \n",
              "9       0       Suicide  "
            ],
            "text/html": [
              "\n",
              "  <div id=\"df-01c5d119-08f7-4d35-a335-5cf6163c9d7d\">\n",
              "    <div class=\"colab-df-container\">\n",
              "      <div>\n",
              "<style scoped>\n",
              "    .dataframe tbody tr th:only-of-type {\n",
              "        vertical-align: middle;\n",
              "    }\n",
              "\n",
              "    .dataframe tbody tr th {\n",
              "        vertical-align: top;\n",
              "    }\n",
              "\n",
              "    .dataframe thead th {\n",
              "        text-align: right;\n",
              "    }\n",
              "</style>\n",
              "<table border=\"1\" class=\"dataframe\">\n",
              "  <thead>\n",
              "    <tr style=\"text-align: right;\">\n",
              "      <th></th>\n",
              "      <th>Unnamed: 0</th>\n",
              "      <th>post_id</th>\n",
              "      <th>text</th>\n",
              "      <th>labels</th>\n",
              "      <th>suicide_class</th>\n",
              "    </tr>\n",
              "  </thead>\n",
              "  <tbody>\n",
              "    <tr>\n",
              "      <th>0</th>\n",
              "      <td>0</td>\n",
              "      <td>wfimt</td>\n",
              "      <td>motiv first post reddit time ago want chang li...</td>\n",
              "      <td>0</td>\n",
              "      <td>Suicide</td>\n",
              "    </tr>\n",
              "    <tr>\n",
              "      <th>1</th>\n",
              "      <td>1</td>\n",
              "      <td>1bsqv3</td>\n",
              "      <td>simpl question transfer acc anoth server hi ha...</td>\n",
              "      <td>1</td>\n",
              "      <td>Non_Suicide</td>\n",
              "    </tr>\n",
              "    <tr>\n",
              "      <th>2</th>\n",
              "      <td>2</td>\n",
              "      <td>1dr0xf</td>\n",
              "      <td>simpl question get unnban hi simpl question ge...</td>\n",
              "      <td>1</td>\n",
              "      <td>Non_Suicide</td>\n",
              "    </tr>\n",
              "    <tr>\n",
              "      <th>3</th>\n",
              "      <td>3</td>\n",
              "      <td>1e0noi</td>\n",
              "      <td>win noy fault hi play eu west diamond right dr...</td>\n",
              "      <td>1</td>\n",
              "      <td>Non_Suicide</td>\n",
              "    </tr>\n",
              "    <tr>\n",
              "      <th>4</th>\n",
              "      <td>4</td>\n",
              "      <td>1f0y6g</td>\n",
              "      <td>diamond mrr rest switch server eu go back west...</td>\n",
              "      <td>1</td>\n",
              "      <td>Non_Suicide</td>\n",
              "    </tr>\n",
              "    <tr>\n",
              "      <th>5</th>\n",
              "      <td>5</td>\n",
              "      <td>1g4s52</td>\n",
              "      <td>scare next ban hi guy alreadi get one perm ban...</td>\n",
              "      <td>1</td>\n",
              "      <td>Non_Suicide</td>\n",
              "    </tr>\n",
              "    <tr>\n",
              "      <th>6</th>\n",
              "      <td>6</td>\n",
              "      <td>1it5ts</td>\n",
              "      <td>player huge impact lose game want report every...</td>\n",
              "      <td>1</td>\n",
              "      <td>Non_Suicide</td>\n",
              "    </tr>\n",
              "    <tr>\n",
              "      <th>7</th>\n",
              "      <td>7</td>\n",
              "      <td>1sge5s</td>\n",
              "      <td>short question short stori pls help decid hi l...</td>\n",
              "      <td>1</td>\n",
              "      <td>Non_Suicide</td>\n",
              "    </tr>\n",
              "    <tr>\n",
              "      <th>8</th>\n",
              "      <td>8</td>\n",
              "      <td>1sjbf9</td>\n",
              "      <td>mayb right time fa mayb right moment face fuck...</td>\n",
              "      <td>0</td>\n",
              "      <td>Suicide</td>\n",
              "    </tr>\n",
              "    <tr>\n",
              "      <th>9</th>\n",
              "      <td>9</td>\n",
              "      <td>226mcd</td>\n",
              "      <td>conclus think suicid room well want share some...</td>\n",
              "      <td>0</td>\n",
              "      <td>Suicide</td>\n",
              "    </tr>\n",
              "  </tbody>\n",
              "</table>\n",
              "</div>\n",
              "      <button class=\"colab-df-convert\" onclick=\"convertToInteractive('df-01c5d119-08f7-4d35-a335-5cf6163c9d7d')\"\n",
              "              title=\"Convert this dataframe to an interactive table.\"\n",
              "              style=\"display:none;\">\n",
              "        \n",
              "  <svg xmlns=\"http://www.w3.org/2000/svg\" height=\"24px\"viewBox=\"0 0 24 24\"\n",
              "       width=\"24px\">\n",
              "    <path d=\"M0 0h24v24H0V0z\" fill=\"none\"/>\n",
              "    <path d=\"M18.56 5.44l.94 2.06.94-2.06 2.06-.94-2.06-.94-.94-2.06-.94 2.06-2.06.94zm-11 1L8.5 8.5l.94-2.06 2.06-.94-2.06-.94L8.5 2.5l-.94 2.06-2.06.94zm10 10l.94 2.06.94-2.06 2.06-.94-2.06-.94-.94-2.06-.94 2.06-2.06.94z\"/><path d=\"M17.41 7.96l-1.37-1.37c-.4-.4-.92-.59-1.43-.59-.52 0-1.04.2-1.43.59L10.3 9.45l-7.72 7.72c-.78.78-.78 2.05 0 2.83L4 21.41c.39.39.9.59 1.41.59.51 0 1.02-.2 1.41-.59l7.78-7.78 2.81-2.81c.8-.78.8-2.07 0-2.86zM5.41 20L4 18.59l7.72-7.72 1.47 1.35L5.41 20z\"/>\n",
              "  </svg>\n",
              "      </button>\n",
              "      \n",
              "  <style>\n",
              "    .colab-df-container {\n",
              "      display:flex;\n",
              "      flex-wrap:wrap;\n",
              "      gap: 12px;\n",
              "    }\n",
              "\n",
              "    .colab-df-convert {\n",
              "      background-color: #E8F0FE;\n",
              "      border: none;\n",
              "      border-radius: 50%;\n",
              "      cursor: pointer;\n",
              "      display: none;\n",
              "      fill: #1967D2;\n",
              "      height: 32px;\n",
              "      padding: 0 0 0 0;\n",
              "      width: 32px;\n",
              "    }\n",
              "\n",
              "    .colab-df-convert:hover {\n",
              "      background-color: #E2EBFA;\n",
              "      box-shadow: 0px 1px 2px rgba(60, 64, 67, 0.3), 0px 1px 3px 1px rgba(60, 64, 67, 0.15);\n",
              "      fill: #174EA6;\n",
              "    }\n",
              "\n",
              "    [theme=dark] .colab-df-convert {\n",
              "      background-color: #3B4455;\n",
              "      fill: #D2E3FC;\n",
              "    }\n",
              "\n",
              "    [theme=dark] .colab-df-convert:hover {\n",
              "      background-color: #434B5C;\n",
              "      box-shadow: 0px 1px 3px 1px rgba(0, 0, 0, 0.15);\n",
              "      filter: drop-shadow(0px 1px 2px rgba(0, 0, 0, 0.3));\n",
              "      fill: #FFFFFF;\n",
              "    }\n",
              "  </style>\n",
              "\n",
              "      <script>\n",
              "        const buttonEl =\n",
              "          document.querySelector('#df-01c5d119-08f7-4d35-a335-5cf6163c9d7d button.colab-df-convert');\n",
              "        buttonEl.style.display =\n",
              "          google.colab.kernel.accessAllowed ? 'block' : 'none';\n",
              "\n",
              "        async function convertToInteractive(key) {\n",
              "          const element = document.querySelector('#df-01c5d119-08f7-4d35-a335-5cf6163c9d7d');\n",
              "          const dataTable =\n",
              "            await google.colab.kernel.invokeFunction('convertToInteractive',\n",
              "                                                     [key], {});\n",
              "          if (!dataTable) return;\n",
              "\n",
              "          const docLinkHtml = 'Like what you see? Visit the ' +\n",
              "            '<a target=\"_blank\" href=https://colab.research.google.com/notebooks/data_table.ipynb>data table notebook</a>'\n",
              "            + ' to learn more about interactive tables.';\n",
              "          element.innerHTML = '';\n",
              "          dataTable['output_type'] = 'display_data';\n",
              "          await google.colab.output.renderOutput(dataTable, element);\n",
              "          const docLink = document.createElement('div');\n",
              "          docLink.innerHTML = docLinkHtml;\n",
              "          element.appendChild(docLink);\n",
              "        }\n",
              "      </script>\n",
              "    </div>\n",
              "  </div>\n",
              "  "
            ]
          },
          "metadata": {},
          "execution_count": 3
        }
      ]
    },
    {
      "cell_type": "code",
      "source": [
        "suicide_data.shape"
      ],
      "metadata": {
        "colab": {
          "base_uri": "https://localhost:8080/"
        },
        "id": "cxBBrMC6Dkz8",
        "outputId": "b53aa59a-590b-41eb-c5a2-5e0a46e236ed"
      },
      "execution_count": null,
      "outputs": [
        {
          "output_type": "execute_result",
          "data": {
            "text/plain": [
              "(698997, 5)"
            ]
          },
          "metadata": {},
          "execution_count": 4
        }
      ]
    },
    {
      "cell_type": "code",
      "source": [
        "suicide_data.isnull().sum()"
      ],
      "metadata": {
        "id": "Xeq8ogp0Dnq-",
        "colab": {
          "base_uri": "https://localhost:8080/"
        },
        "outputId": "98701a6d-db2a-4426-8d07-f54c1820400d"
      },
      "execution_count": null,
      "outputs": [
        {
          "output_type": "execute_result",
          "data": {
            "text/plain": [
              "Unnamed: 0         0\n",
              "post_id            0\n",
              "text             166\n",
              "labels             0\n",
              "suicide_class      0\n",
              "dtype: int64"
            ]
          },
          "metadata": {},
          "execution_count": 5
        }
      ]
    },
    {
      "cell_type": "code",
      "source": [
        "#replacing missing value with null string\n",
        "suicide_data = suicide_data.fillna('')"
      ],
      "metadata": {
        "id": "ciAN1RqlGNsp"
      },
      "execution_count": null,
      "outputs": []
    },
    {
      "cell_type": "markdown",
      "source": [
        "k-means"
      ],
      "metadata": {
        "id": "RHko4P8lDvPH"
      }
    },
    {
      "cell_type": "code",
      "source": [
        "from sklearn.cluster import KMeans\n",
        "from sklearn.metrics import accuracy_score"
      ],
      "metadata": {
        "id": "9l_k0OpbDxLd"
      },
      "execution_count": null,
      "outputs": []
    },
    {
      "cell_type": "code",
      "source": [
        "# Vectorize the text data using TF-IDF\n",
        "vectorizer = TfidfVectorizer(stop_words='english')\n",
        "X = vectorizer.fit_transform(suicide_data['text'])"
      ],
      "metadata": {
        "id": "zviwkjbSD0C0"
      },
      "execution_count": null,
      "outputs": []
    },
    {
      "cell_type": "code",
      "source": [
        "# Perform k-means clustering\n",
        "kmeans = KMeans(n_clusters=2,init='random',n_init=10,max_iter=500)\n",
        "clusters = kmeans.fit_predict(X)"
      ],
      "metadata": {
        "id": "eBZjWyYPD2oy"
      },
      "execution_count": null,
      "outputs": []
    },
    {
      "cell_type": "code",
      "source": [
        "# Calculate accuracy\n",
        "y_true = suicide_data['labels']\n",
        "y_pred = clusters\n",
        "accuracy = accuracy_score(y_true, y_pred)"
      ],
      "metadata": {
        "id": "kqPa240OD5H3"
      },
      "execution_count": null,
      "outputs": []
    },
    {
      "cell_type": "code",
      "source": [
        "# Print the accuracy\n",
        "print('Accuracy:', accuracy)"
      ],
      "metadata": {
        "colab": {
          "base_uri": "https://localhost:8080/"
        },
        "id": "AIV09BUmEBlK",
        "outputId": "16e34661-5a6c-46c4-fcbc-cba75a6aeb77"
      },
      "execution_count": null,
      "outputs": [
        {
          "output_type": "stream",
          "name": "stdout",
          "text": [
            "Accuracy: 0.9691686802661528\n"
          ]
        }
      ]
    },
    {
      "cell_type": "markdown",
      "source": [
        "hierarchical clustering"
      ],
      "metadata": {
        "id": "fpOKSs37EFh_"
      }
    },
    {
      "cell_type": "code",
      "source": [
        "suicide_data = suicide_data.sample(n=5000, replace=False)\n",
        "suicide_data.reset_index(inplace=True)\n",
        "suicide_data"
      ],
      "metadata": {
        "id": "pIkJ4BzcGpLu"
      },
      "execution_count": null,
      "outputs": []
    },
    {
      "cell_type": "code",
      "source": [
        "from sklearn.feature_extraction.text import TfidfVectorizer\n",
        "from sklearn.cluster import AgglomerativeClustering\n",
        "from sklearn.metrics import accuracy_score"
      ],
      "metadata": {
        "id": "XYbvhTHjENSq"
      },
      "execution_count": null,
      "outputs": []
    },
    {
      "cell_type": "code",
      "source": [
        "# Vectorize the text data using TF-IDF\n",
        "vectorizer = TfidfVectorizer(stop_words='english')\n",
        "X = vectorizer.fit_transform(suicide_data['text'])"
      ],
      "metadata": {
        "id": "aXEGiYz8EQaw"
      },
      "execution_count": null,
      "outputs": []
    },
    {
      "cell_type": "code",
      "source": [
        "# Perform hierarchical clustering\n",
        "agg_clustering = AgglomerativeClustering(n_clusters=2)\n",
        "clusters = agg_clustering.fit_predict(X.toarray())\n",
        "#aggC = AgglomerativeClustering(n_clusters=2, distance_threshold=1.0, linkage=\"single\")\n",
        "#clusters = aggC.fit_predict(X.toarray())"
      ],
      "metadata": {
        "id": "GvRbh5-tEThr"
      },
      "execution_count": null,
      "outputs": []
    },
    {
      "cell_type": "code",
      "source": [
        "# Calculate accuracy\n",
        "y_true = suicide_data['labels']\n",
        "y_pred = clusters\n",
        "accuracy = accuracy_score(y_true, y_pred)"
      ],
      "metadata": {
        "id": "VnttcesvEWea"
      },
      "execution_count": null,
      "outputs": []
    },
    {
      "cell_type": "code",
      "source": [
        "# Print the accuracy\n",
        "print('Accuracy:', accuracy)"
      ],
      "metadata": {
        "colab": {
          "base_uri": "https://localhost:8080/"
        },
        "id": "SpKHY6YiEdAD",
        "outputId": "d4fee7f9-22c5-4e00-a3a7-8e0100f6bcdc"
      },
      "execution_count": null,
      "outputs": [
        {
          "output_type": "stream",
          "name": "stdout",
          "text": [
            "Accuracy: 0.7754\n"
          ]
        }
      ]
    },
    {
      "cell_type": "markdown",
      "source": [
        "PAM"
      ],
      "metadata": {
        "id": "MRECIfSEEptN"
      }
    },
    {
      "cell_type": "code",
      "source": [
        "!pip install scikit-learn-extra"
      ],
      "metadata": {
        "id": "tWZ_cwUdEqbt"
      },
      "execution_count": null,
      "outputs": []
    },
    {
      "cell_type": "code",
      "source": [
        "import pandas as pd\n",
        "import numpy as np\n",
        "from sklearn.feature_extraction.text import TfidfVectorizer\n",
        "from sklearn.metrics.pairwise import cosine_similarity\n",
        "from sklearn_extra.cluster import KMedoids\n",
        "import re\n",
        "from sklearn.metrics import accuracy_score"
      ],
      "metadata": {
        "id": "Z492lkG0Es4d"
      },
      "execution_count": null,
      "outputs": []
    },
    {
      "cell_type": "code",
      "source": [
        "# Vectorize text data\n",
        "vectorizer = TfidfVectorizer()\n",
        "X = vectorizer.fit_transform(suicide_data['text'])"
      ],
      "metadata": {
        "id": "J9xRi2BeEvf4"
      },
      "execution_count": null,
      "outputs": []
    },
    {
      "cell_type": "code",
      "source": [
        "cos_sim = cosine_similarity(X)\n",
        "dissimilarity_matrix = 1 - cos_sim"
      ],
      "metadata": {
        "id": "_f4LnkO-EyE5"
      },
      "execution_count": null,
      "outputs": []
    },
    {
      "cell_type": "code",
      "source": [
        "dissimilarity_matrix += 0.00001"
      ],
      "metadata": {
        "id": "0FAyunbYE0kg"
      },
      "execution_count": null,
      "outputs": []
    },
    {
      "cell_type": "code",
      "source": [
        "# Calculate pairwise cosine similarity\n",
        "#cos_sim = cosine_similarity(X)\n",
        "\n",
        "# PAM algorithm\n",
        "n_clusters = 2\n",
        "kmedoids = KMedoids(n_clusters=n_clusters, metric='precomputed', init='k-medoids++', max_iter=100)\n",
        "clusters = kmedoids.fit_predict(dissimilarity_matrix)"
      ],
      "metadata": {
        "id": "0IxX8BDOE3j9"
      },
      "execution_count": null,
      "outputs": []
    },
    {
      "cell_type": "code",
      "source": [
        "# Calculate accuracy\n",
        "actual_labels = suicide_data['labels']\n",
        "predicted_labels = np.zeros(len(suicide_data))\n",
        "predicted_labels[clusters == 1] = 1\n",
        "accuracy = accuracy_score(actual_labels, predicted_labels)\n",
        "print(f'Accuracy: {accuracy:.2f}')"
      ],
      "metadata": {
        "colab": {
          "base_uri": "https://localhost:8080/"
        },
        "id": "GXS24-WeE7bO",
        "outputId": "36cde87d-ba2c-415f-d9c1-cef190c0ad49"
      },
      "execution_count": null,
      "outputs": [
        {
          "output_type": "stream",
          "name": "stdout",
          "text": [
            "Accuracy: 0.70\n"
          ]
        }
      ]
    },
    {
      "cell_type": "code",
      "source": [
        "# Print results\n",
        "for i in range(n_clusters):\n",
        "    print(f'Cluster {i}:')\n",
        "    cluster_data = suicide_data[clusters == i]\n",
        "    print(cluster_data['text'].values)\n",
        "    print('\\n')"
      ],
      "metadata": {
        "id": "F1vW4vTDFBMu"
      },
      "execution_count": null,
      "outputs": []
    }
  ]
}